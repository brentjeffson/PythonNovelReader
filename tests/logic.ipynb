{
 "metadata": {
  "language_info": {
   "codemirror_mode": {
    "name": "ipython",
    "version": 3
   },
   "file_extension": ".py",
   "mimetype": "text/x-python",
   "name": "python",
   "nbconvert_exporter": "python",
   "pygments_lexer": "ipython3",
   "version": "3.7.3-final"
  },
  "orig_nbformat": 2,
  "kernelspec": {
   "name": "python_defaultSpec_1598050056979",
   "display_name": "Python 3.7.3 64-bit ('Anaconda3': conda)"
  }
 },
 "nbformat": 4,
 "nbformat_minor": 2,
 "cells": [
  {
   "cell_type": "code",
   "execution_count": null,
   "metadata": {},
   "outputs": [],
   "source": [
    "from kivy.app import App, Builder\n",
    "from novelreader.controllers.pages import PageManager\n",
    "\n",
    "pages_manager = Builder.load_file(\"../views/pages.kv\")\n",
    "\n",
    "class MainApp(App):\n",
    "\n",
    "    def build(self):\n",
    "        return pages_manager\n",
    "\n",
    "\n",
    "if __name__ == \"__main__\":\n",
    "    app = MainApp()\n",
    "    app.run()"
   ]
  }
 ]
}